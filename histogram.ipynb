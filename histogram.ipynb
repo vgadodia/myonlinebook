{
 "cells": [
  {
   "cell_type": "markdown",
   "metadata": {},
   "source": [
    "# Histogram Method"
   ]
  },
  {
   "cell_type": "markdown",
   "metadata": {},
   "source": [
    "![](histogram.png)"
   ]
  },
  {
   "cell_type": "markdown",
   "metadata": {},
   "source": [
    "## Reformat netCDF4 File for a Function Call"
   ]
  },
  {
   "cell_type": "code",
   "execution_count": null,
   "metadata": {
    "tags": [
     "hide_input"
    ]
   },
   "outputs": [],
   "source": [
    "import sys\n",
    "!{sys.executable} -m pip install netCDF4\n",
    "!{sys.executable} -m pip install xarray\n",
    "import opedia\n",
    "import netCDF4\n",
    "import os\n",
    "import numpy as np\n",
    "import pandas as pd\n",
    "import xarray as xr\n",
    "import db\n",
    "import subset\n",
    "import common as com\n",
    "from datetime import datetime, timedelta\n",
    "import time\n",
    "from bokeh.io import output_notebook\n",
    "from math import pi\n",
    "from bokeh.plotting import figure, show, output_file\n",
    "from bokeh.layouts import column\n",
    "from bokeh.models import DatetimeTickFormatter\n",
    "from bokeh.palettes import all_palettes\n",
    "from bokeh.models import HoverTool\n",
    "from bokeh.embed import components\n",
    "import jupyterInline as jup\n",
    "if jup.jupytered():\n",
    "    from tqdm import tqdm_notebook as tqdm\n",
    "else:\n",
    "    from tqdm import tqdm"
   ]
  },
  {
   "cell_type": "markdown",
   "metadata": {},
   "source": [
    "### NetCDF4-Compatible Function"
   ]
  },
  {
   "cell_type": "code",
   "execution_count": null,
   "metadata": {
    "tags": [
     "hide_input"
    ]
   },
   "outputs": [],
   "source": [
    "def xarrayPlotDist(tables, variables, startDate, endDate, lat1, lat2, lon1, lon2, depth1, depth2, fname, exportDataFlag, marker='-', msize=30, clr='purple'):\n",
    "    p = []\n",
    "    lw = 2\n",
    "    w = 800\n",
    "    h = 400\n",
    "    TOOLS = 'pan,wheel_zoom,zoom_in,zoom_out,box_zoom, undo,redo,reset,tap,save,box_select,poly_select,lasso_select'\n",
    "    for i in tqdm(range(len(tables)), desc='overall'):\n",
    "        \n",
    "        unit = tables[i].variables[variables[i]].attrs['units']\n",
    "        \n",
    "        varData = tables[i].sel(TIME = slice(startDate, endDate), LAT_C = slice(lat1, lat2), LON_C = slice(lon1, lon2), DEP_C = slice(depth1, depth2))\n",
    "        varData = varData.variables[variables[i]][:].values\n",
    "        varData[varData < 0] = float('NaN')\n",
    "        \n",
    "        varData = varData.tolist()[0][0]\n",
    "        elems = []\n",
    "        for list in varData:\n",
    "            for item in list:\n",
    "                elems.append(item)\n",
    "        varData = pd.Series(elems).dropna()\n",
    "\n",
    "        if exportDataFlag:\n",
    "            exportData(y, tables[i], variables[i], startDate, endDate, lat1, lat2, lon1, lon2, depth1, depth2)\n",
    "        try:    \n",
    "            carData = varData[~np.isnan(varData)]     # remove nans\n",
    "        except Exception as e:\n",
    "            continue   \n",
    "            \n",
    "        hist, edges = np.histogram(varData, density=True, bins=50)\n",
    "        \n",
    "        output_notebook()\n",
    "        \n",
    "        p1 = figure(tools=TOOLS, toolbar_location=\"above\", plot_width=w, plot_height=h)\n",
    "        p1.yaxis.axis_label = 'Density'\n",
    "        p1.xaxis.axis_label = variables[i] + ' (' +str(unit) + ')'\n",
    "        leg = variables[i]\n",
    "        fill_alpha = 0.4   \n",
    "        cr = p1.quad(top=hist, bottom=0, left=edges[:-1], right=edges[1:], fill_color=\"dodgerblue\", line_color=None, hover_fill_color=\"firebrick\", fill_alpha=fill_alpha, hover_alpha=0.7, hover_line_color=\"white\", legend=leg)\n",
    "        p1.add_tools(HoverTool(tooltips=None, renderers=[cr], mode='mouse'))\n",
    "        p.append(p1)\n",
    "    dirPath = 'embed/'\n",
    "    if not os.path.exists(dirPath):\n",
    "        os.makedirs(dirPath)        \n",
    "    \n",
    "    #if not inline:      ## if jupyter is not the caller\n",
    "    #    output_file(dirPath + fname + \".html\", title=\"Histogram\")\n",
    "    #    print('test')\n",
    "    show(column(p))\n",
    "    return"
   ]
  },
  {
   "cell_type": "markdown",
   "metadata": {},
   "source": [
    "### Testing Function "
   ]
  },
  {
   "cell_type": "code",
   "execution_count": null,
   "metadata": {},
   "outputs": [],
   "source": [
    "xFile = xr.open_dataset('http://3.88.71.225:80/thredds/dodsC/las/id-a1d60eba44/data_usr_local_tomcat_content_cbiomes_20190510_20_darwin_v0.2_cs510_darwin_v0.2_cs510_nutrients.nc.jnl')\n",
    "\n",
    "tables = [xFile]           # see catalog.csv  for the complete list of tables and variable names\n",
    "variables = ['O2']       # see catalog.csv  for the complete list of tables and variable names\n",
    "startDate = '2010-04-30'\n",
    "endDate = '2010-04-30'\n",
    "lat1, lat2 = -80, 80\n",
    "lon1, lon2 = -80, 80\n",
    "depth1, depth2 = 0, 10\n",
    "fname = 'DEP'\n",
    "exportDataFlag = False      # True if you you want to download data\n",
    "\n",
    "xarrayPlotDist(tables, variables, startDate, endDate, lat1, lat2, lon1, lon2, depth1, depth2, fname, exportDataFlag)\n"
   ]
  }
 ],
 "metadata": {
  "celltoolbar": "Tags",
  "kernelspec": {
   "display_name": "Python 3",
   "language": "python",
   "name": "python3"
  },
  "language_info": {
   "codemirror_mode": {
    "name": "ipython",
    "version": 3
   },
   "file_extension": ".py",
   "mimetype": "text/x-python",
   "name": "python",
   "nbconvert_exporter": "python",
   "pygments_lexer": "ipython3",
   "version": "3.7.3"
  }
 },
 "nbformat": 4,
 "nbformat_minor": 2
}
