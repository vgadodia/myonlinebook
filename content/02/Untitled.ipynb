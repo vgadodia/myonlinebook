{
 "cells": [
  {
   "cell_type": "code",
   "execution_count": 2,
   "metadata": {},
   "outputs": [],
   "source": [
    "# Regional Map"
   ]
  },
  {
   "cell_type": "markdown",
   "metadata": {},
   "source": [
    "### Regional Map Function"
   ]
  },
  {
   "cell_type": "code",
   "execution_count": null,
   "metadata": {
    "tags": [
     "hide_input"
    ]
   },
   "outputs": [],
   "source": [
    "def regionalMap(tables, variabels, dt1, dt2, lat1, lat2, lon1, lon2, depth1, depth2, fname, exportDataFlag):\n",
    "    for i in tqdm(range(len(tables)), desc='overall'):\n",
    "        \n",
    "        unit = tables[i].variables[variables[i]].attrs['units']\n",
    "        \n",
    "        toDateTime = tables[i].indexes['TIME'].to_datetimeindex()\n",
    "        tables[i]['TIME'] = toDateTime\n",
    "        table = tables[i].sel(TIME = slice(startDate, endDate), LAT_C = slice(lat1, lat2), LON_C = slice(lon1, lon2), DEP_C = slice(depth1, depth2))\n",
    "        \n",
    "        varData = table.variables[variables[i]][0,0,:,:].values       \n",
    "        \n",
    "        lats = table.variables['LAT_C'].values.tolist()\n",
    "        lons = table.variables['LON_C'].values.tolist()\n",
    "        \n",
    "        shape = (len(lats), len(lons))\n",
    "        \n",
    "        varData.reshape(shape)\n",
    "\n",
    "        varData[varData < 0] = float('NaN')\n",
    "        varData = [np.asarray(varData)]\n",
    "        lats = [np.asarray(lats)]\n",
    "        lons = [np.asarray(lons)]\n",
    "        \n",
    "        bokehMap(varData, unit, 'regional', lats, lons, unit, 'OTHER', variables[i])"
   ]
  },
  {
   "cell_type": "markdown",
   "metadata": {},
   "source": [
    "### BokehMap Function"
   ]
  },
  {
   "cell_type": "code",
   "execution_count": null,
   "metadata": {
    "tags": [
     "hide_input"
    ]
   },
   "outputs": [],
   "source": [
    "def bokehMap(data, subject, fname, lat, lon, units, tables, variabels):\n",
    "    TOOLS=\"crosshair,pan,zoom_in,wheel_zoom,zoom_out,box_zoom,reset,save,\"\n",
    "    p = []\n",
    "    for ind in range(len(data)):\n",
    "\n",
    "        w, h = com.canvasRect(dw=np.max(lon[ind])-np.min(lon[ind]), dh=np.max(lat[ind])-np.min(lat[ind]))\n",
    "        p1 = figure(tools=TOOLS, toolbar_location=\"right\", title=subject[ind], plot_width=w, plot_height=h, x_range=(np.min(lon[ind]), np.max(lon[ind])), y_range=(np.min(lat[ind]), np.max(lat[ind])))\n",
    "        p1.xaxis.axis_label = 'Longitude'\n",
    "        p1.yaxis.axis_label = 'Latitude'\n",
    "    \n",
    "        unit = units\n",
    "        \n",
    "        bounds = com.getBounds(variabels[ind])\n",
    "        \n",
    "        paletteName = com.getPalette(variabels[ind])\n",
    "        low, high = bounds[0], bounds[1]\n",
    "        \n",
    "        if low == None:\n",
    "            low, high = np.nanmin(data[ind].flatten()), np.nanmax(data[ind].flatten())\n",
    "        color_mapper = LinearColorMapper(palette=paletteName, low=low, high=high)\n",
    "        p1.image(image=[data[ind]], color_mapper=color_mapper, x=np.min(lon[ind]), y=np.min(lat[ind]), dw=np.max(lon[ind])-np.min(lon[ind]), dh=np.max(lat[ind])-np.min(lat[ind]))\n",
    "        p1.add_tools(HoverTool(\n",
    "            tooltips=[\n",
    "                ('longitude', '$x'),\n",
    "                ('latitude', '$y'),\n",
    "                (variabels[ind]+unit, '@image'),\n",
    "            ],\n",
    "            mode='mouse'\n",
    "        ))\n",
    "        color_bar = ColorBar(color_mapper=color_mapper, ticker=BasicTicker(),\n",
    "                        label_standoff=12, border_line_color=None, location=(0,0))\n",
    "        p1.add_layout(color_bar, 'right')\n",
    "        p.append(p1)\n",
    "    if len(p) > 0:\n",
    "       # if not inline:      ## if jupyter is not the caller\n",
    "       #     dirPath = 'embed/'\n",
    "       #     if not os.path.exists(dirPath):\n",
    "       #         os.makedirs(dirPath)        \n",
    "       #     output_file(dirPath + fname + \".html\", title=\"Regional Map\")\n",
    "        show(column(p))\n",
    "    return"
   ]
  },
  {
   "cell_type": "code",
   "execution_count": 3,
   "metadata": {},
   "outputs": [],
   "source": [
    "# Time Series"
   ]
  },
  {
   "cell_type": "markdown",
   "metadata": {},
   "source": [
    "### Xarray Implementation ###"
   ]
  },
  {
   "cell_type": "code",
   "execution_count": null,
   "metadata": {
    "tags": [
     "hide_input"
    ]
   },
   "outputs": [],
   "source": [
    "def plotTSX(tables, variables, startDate, endDate, lat1, lat2, lon1, lon2, depth1, depth2, fname, exportDataFlag, marker='-', msize=20, clr='purple'):\n",
    "    p = []\n",
    "    lw = 2\n",
    "    w = 800\n",
    "    h = 400\n",
    "    TOOLS = 'pan,wheel_zoom,zoom_in,zoom_out,box_zoom, undo,redo,reset,tap,save,box_select,poly_select,lasso_select'\n",
    "    for i in tqdm(range(len(tables)), desc='overall'):\n",
    "        dt = 1     \n",
    "        unit = tables[i].variables[variables[i]].attrs['units']\n",
    "        \n",
    "        toDateTime = tables[i].indexes['TIME'].to_datetimeindex()\n",
    "        tables[i]['TIME'] = toDateTime\n",
    "        y = tables[i].sel(TIME = slice(startDate, endDate), LAT_C = slice(lat1, lat2), LON_C = slice(lon1, lon2), DEP_C = slice(depth1, depth2))\n",
    "        t = y.variables['TIME'].values\n",
    "        y = y.variables[variables[i]][:,0,0,0].values.tolist()\n",
    "        \n",
    "        if exportDataFlag:\n",
    "            exportData(t, y, yErr, tables[i], variables[i], lat1, lat2, lon1, lon2, depth1, depth2)\n",
    "        \n",
    "        output_notebook()\n",
    "        p1 = figure(tools=TOOLS, toolbar_location=\"above\", plot_width=w, plot_height=h)\n",
    "        p1.xaxis.axis_label = 'Time'        \n",
    "        p1.yaxis.axis_label = variables[i] + str(unit)\n",
    "        leg = variables[i]\n",
    "        fill_alpha = 0.3        \n",
    "        cr = p1.circle(t, y, fill_color=\"grey\", hover_fill_color=\"firebrick\", fill_alpha=fill_alpha, hover_alpha=0.3, line_color=None, hover_line_color=\"white\", legend=leg, size=msize)\n",
    "        p1.line(t, y, line_color=clr, line_width=lw, legend=leg)\n",
    "        p1.add_tools(HoverTool(tooltips=None, renderers=[cr], mode='hline'))\n",
    "        \n",
    "        \n",
    "        p1.xaxis.formatter=DatetimeTickFormatter(\n",
    "                hours=[\"%d %B %Y\"],\n",
    "                days=[\"%d %B %Y\"],\n",
    "                months=[\"%d %B %Y\"],\n",
    "                years=[\"%d %B %Y\"],\n",
    "            )\n",
    "        p1.xaxis.major_label_orientation = pi/4\n",
    "\n",
    "        p.append(p1)\n",
    "    dirPath = 'embed/'\n",
    "    if not os.path.exists(dirPath):\n",
    "        os.makedirs(dirPath)        \n",
    "    #if not inline:      ## if jupyter is not the caller\n",
    "    #   output_file(dirPath + fname + \".html\", title=\"TimeSeries\")\n",
    "    show(column(p))\n",
    "    return"
   ]
  },
  {
   "cell_type": "code",
   "execution_count": 4,
   "metadata": {},
   "outputs": [],
   "source": [
    "# Sectional Map"
   ]
  },
  {
   "cell_type": "markdown",
   "metadata": {},
   "source": [
    "### NetCDF Compatible Function ###"
   ]
  },
  {
   "cell_type": "code",
   "execution_count": null,
   "metadata": {
    "tags": [
     "hide_input"
    ]
   },
   "outputs": [],
   "source": [
    "def xarraySectionMap(tables, variabels, dt1, dt2, lat1, lat2, lon1, lon2, depth1, depth2, fname, exportDataFlag):\n",
    "    data, lats, lons, subs, frameVars, units = [], [], [], [], [], []\n",
    "    xs, ys, zs = [], [], []\n",
    "    for i in tqdm(range(len(tables)), desc='overall'):\n",
    "        \n",
    "        toDateTime = tables[i].indexes['TIME'].to_datetimeindex()\n",
    "        tables[i]['TIME'] = toDateTime\n",
    "        table = tables[i].sel(TIME = slice(dt1, dt2), LAT_C = slice(lat1, lat2), LON_C = slice(lon1, lon2), DEP_C = slice(depth1, depth2))\n",
    "        ############### export retrieved data ###############\n",
    "        if exportDataFlag:      # export data\n",
    "            dirPath = 'data/'\n",
    "            if not os.path.exists(dirPath):\n",
    "                os.makedirs(dirPath)                \n",
    "            exportData(df, path=dirPath + fname + '_' + tables[i] + '_' + variabels[i] + '.csv')\n",
    "        #####################################################\n",
    "\n",
    "        times = np.unique(table.variables['TIME'].values)\n",
    "        lats = np.unique(table.variables['LAT_C'].values)\n",
    "        lons = np.unique(table.variables['LON_C'].values)\n",
    "        depths = np.flip(np.unique(table.variables['DEP_C'].values))\n",
    "        shape = (len(lats), len(lons), len(depths))\n",
    "        \n",
    "        hours = [None]\n",
    "\n",
    "        unit = '[PLACEHOLDER]'\n",
    "\n",
    "        for t in times:\n",
    "            for h in hours:\n",
    "                frame = table.sel(TIME = t, method = 'nearest')\n",
    "                sub = variabels[i] + unit + ', TIME: ' + str(t) \n",
    "                if h != None:\n",
    "                    frame = frame[frame['hour'] == h]\n",
    "                    sub = sub + ', hour: ' + str(h) + 'hr'\n",
    "                try:    \n",
    "                    shot = frame[variabels[i]].values.reshape(shape)\n",
    "                    shot[shot < 0] = float('NaN')\n",
    "                except Exception as e:\n",
    "                    continue    \n",
    "                data.append(shot)\n",
    "                \n",
    "                xs.append(lons)\n",
    "                ys.append(lats)\n",
    "                zs.append(depths)\n",
    "\n",
    "                frameVars.append(variabels[i])\n",
    "                units.append(unit)\n",
    "                subs.append(sub)\n",
    "    \n",
    "    bokehSec(data=data, subject=subs, fname=fname, ys=ys, xs=xs, zs=zs, units=units, variabels=frameVars)\n",
    "    return"
   ]
  },
  {
   "cell_type": "markdown",
   "metadata": {},
   "source": [
    "### Helper Functions"
   ]
  },
  {
   "cell_type": "markdown",
   "metadata": {},
   "source": [
    "#### BokehSec Function"
   ]
  },
  {
   "cell_type": "code",
   "execution_count": null,
   "metadata": {
    "tags": [
     "hide_input"
    ]
   },
   "outputs": [],
   "source": [
    "def bokehSec(data, subject, fname, ys, xs, zs, units, variabels):\n",
    "    TOOLS=\"crosshair,pan,wheel_zoom,zoom_in,zoom_out,box_zoom,undo,redo,reset,tap,save,box_select,poly_select,lasso_select,\"\n",
    "    w = 1000\n",
    "    h = 500\n",
    "    p = []\n",
    "    data_org = list(data)\n",
    "    for ind in range(len(data_org)):\n",
    "        data = data_org[ind]\n",
    "        lon = xs[ind]\n",
    "        lat = ys[ind]\n",
    "        depth = zs[ind]      \n",
    "        \n",
    "        bounds = (None, None)\n",
    "        paletteName = com.getPalette(variabels[ind], 10)\n",
    "        low, high = bounds[0], bounds[1]\n",
    "        \n",
    "        if low == None:\n",
    "            low, high = np.nanmin(data[ind].flatten()), np.nanmax(data[ind].flatten())\n",
    "        color_mapper = LinearColorMapper(palette=paletteName, low=low, high=high)\n",
    "        output_notebook()\n",
    "        if len(lon) > len(lat):\n",
    "            p1 = figure(tools=TOOLS, toolbar_location=\"above\", title=subject[ind], plot_width=w, plot_height=h, x_range=(np.min(lon), np.max(lon)), y_range=(-np.max(depth), -np.min(depth)))\n",
    "            data = np.nanmean(data, axis=0)\n",
    "            data = np.transpose(data)\n",
    "            data = np.squeeze(data)\n",
    "            xLabel = 'Longitude'\n",
    "            data = regulate(lat, lon, depth, data)\n",
    "            p1.image(image=[data], color_mapper=color_mapper, x=np.min(lon), y=-np.max(depth), dw=np.max(lon)-np.min(lon), dh=np.max(depth)-np.min(depth))\n",
    "        else:\n",
    "            p1 = figure(tools=TOOLS, toolbar_location=\"above\", title=subject[ind], plot_width=w, plot_height=h, x_range=(np.min(lat), np.max(lat)), y_range=(-np.max(depth), -np.min(depth)))\n",
    "            data = np.nanmean(data, axis=1)\n",
    "            data = np.transpose(data)\n",
    "            data = np.squeeze(data)\n",
    "            xLabel = 'Latitude'      \n",
    "            data = regulate(lat, lon, depth, data)\n",
    "            p1.image(image=[data], color_mapper=color_mapper, x=np.min(lat), y=-np.max(depth), dw=np.max(lat)-np.min(lat), dh=np.max(depth)-np.min(depth))\n",
    "\n",
    "        p1.xaxis.axis_label = xLabel\n",
    "        p1.add_tools(HoverTool(\n",
    "            tooltips=[\n",
    "                (xLabel.lower(), '$x'),\n",
    "                ('depth', '$y'),\n",
    "                (variabels[ind]+units[ind], '@image'),\n",
    "            ],\n",
    "            mode='mouse'\n",
    "        ))\n",
    "\n",
    "        p1.yaxis.axis_label = 'depth [m]'\n",
    "        color_bar = ColorBar(color_mapper=color_mapper, ticker=BasicTicker(),\n",
    "                        label_standoff=12, border_line_color=None, location=(0,0))\n",
    "        p1.add_layout(color_bar, 'right')\n",
    "        p.append(p1)\n",
    "    dirPath = 'embed/'\n",
    "   # if not os.path.exists(dirPath):\n",
    "   #     os.makedirs(dirPath)        \n",
    "   # if not inline:      ## if jupyter is not the caller\n",
    "   # output_file(dirPath + fname + \".html\", title=\"Section Map\")\n",
    "    show(column(p))\n",
    "    return"
   ]
  },
  {
   "cell_type": "markdown",
   "metadata": {},
   "source": [
    "#### Regulate Function"
   ]
  },
  {
   "cell_type": "code",
   "execution_count": null,
   "metadata": {
    "tags": [
     "hide_input"
    ]
   },
   "outputs": [],
   "source": [
    "def regulate(lat, lon, depth, data):\n",
    "    depth = -1* depth \n",
    "    deltaZ = np.min( np.abs( depth - np.roll(depth, -1) ) )\n",
    "    newDepth =  np.arange(np.min(depth), np.max(depth), deltaZ)        \n",
    "\n",
    "    if len(lon) > len(lat):\n",
    "        lon1, depth1 = np.meshgrid(lon, depth)\n",
    "        lon2, depth2 = np.meshgrid(lon, newDepth)\n",
    "        lon1 = lon1.ravel()\n",
    "        lon1 = list(lon1[lon1 != np.isnan])\n",
    "        depth1 = depth1.ravel()\n",
    "        depth1 = list(depth1[depth1 != np.isnan])\n",
    "        data = data.ravel()\n",
    "        data = list(data[data != np.isnan])\n",
    "        data = griddata((lon1, depth1), data, (lon2, depth2), method='linear')\n",
    "    else:   \n",
    "        lat1, depth1 = np.meshgrid(lat, depth)\n",
    "        lat2, depth2 = np.meshgrid(lat, newDepth)\n",
    "        lat1 = lat1.ravel()\n",
    "        lat1 = list(lat1[lat1 != np.isnan])\n",
    "        depth1 = depth1.ravel()\n",
    "        depth1 = list(depth1[depth1 != np.isnan])\n",
    "        data = data.ravel()\n",
    "        data = list(data[data != np.isnan])\n",
    "        data = griddata((lat1, depth1), data, (lat2, depth2), method='linear')\n",
    "\n",
    "    depth = -1* depth \n",
    "    return data"
   ]
  },
  {
   "cell_type": "code",
   "execution_count": 5,
   "metadata": {},
   "outputs": [],
   "source": [
    "# Histogram"
   ]
  },
  {
   "cell_type": "markdown",
   "metadata": {},
   "source": [
    "### NetCDF4-Compatible Function"
   ]
  },
  {
   "cell_type": "code",
   "execution_count": null,
   "metadata": {
    "tags": [
     "hide_input"
    ]
   },
   "outputs": [],
   "source": [
    "def xarrayPlotDist(tables, variables, startDate, endDate, lat1, lat2, lon1, lon2, depth1, depth2, fname, exportDataFlag, marker='-', msize=30, clr='purple'):\n",
    "    p = []\n",
    "    lw = 2\n",
    "    w = 800\n",
    "    h = 400\n",
    "    TOOLS = 'pan,wheel_zoom,zoom_in,zoom_out,box_zoom, undo,redo,reset,tap,save,box_select,poly_select,lasso_select'\n",
    "    for i in tqdm(range(len(tables)), desc='overall'):\n",
    "        \n",
    "        unit = tables[i].variables[variables[i]].attrs['units']\n",
    "        \n",
    "        varData = tables[i].sel(TIME = slice(startDate, endDate), LAT_C = slice(lat1, lat2), LON_C = slice(lon1, lon2), DEP_C = slice(depth1, depth2))\n",
    "        varData = varData.variables[variables[i]][:].values\n",
    "        varData[varData < 0] = float('NaN')\n",
    "        \n",
    "        varData = varData.tolist()[0][0]\n",
    "        elems = []\n",
    "        for list in varData:\n",
    "            for item in list:\n",
    "                elems.append(item)\n",
    "        varData = pd.Series(elems).dropna()\n",
    "\n",
    "        if exportDataFlag:\n",
    "            exportData(y, tables[i], variables[i], startDate, endDate, lat1, lat2, lon1, lon2, depth1, depth2)\n",
    "        try:    \n",
    "            carData = varData[~np.isnan(varData)]     # remove nans\n",
    "        except Exception as e:\n",
    "            continue   \n",
    "            \n",
    "        hist, edges = np.histogram(varData, density=True, bins=50)\n",
    "        \n",
    "        output_notebook()\n",
    "        \n",
    "        p1 = figure(tools=TOOLS, toolbar_location=\"above\", plot_width=w, plot_height=h)\n",
    "        p1.yaxis.axis_label = 'Density'\n",
    "        p1.xaxis.axis_label = variables[i] + ' (' +str(unit) + ')'\n",
    "        leg = variables[i]\n",
    "        fill_alpha = 0.4   \n",
    "        cr = p1.quad(top=hist, bottom=0, left=edges[:-1], right=edges[1:], fill_color=\"dodgerblue\", line_color=None, hover_fill_color=\"firebrick\", fill_alpha=fill_alpha, hover_alpha=0.7, hover_line_color=\"white\", legend=leg)\n",
    "        p1.add_tools(HoverTool(tooltips=None, renderers=[cr], mode='mouse'))\n",
    "        p.append(p1)\n",
    "    dirPath = 'embed/'\n",
    "    if not os.path.exists(dirPath):\n",
    "        os.makedirs(dirPath)        \n",
    "    \n",
    "    #if not inline:      ## if jupyter is not the caller\n",
    "    #    output_file(dirPath + fname + \".html\", title=\"Histogram\")\n",
    "    #    print('test')\n",
    "    show(column(p))\n",
    "    return"
   ]
  }
 ],
 "metadata": {
  "kernelspec": {
   "display_name": "Python 3",
   "language": "python",
   "name": "python3"
  },
  "language_info": {
   "codemirror_mode": {
    "name": "ipython",
    "version": 3
   },
   "file_extension": ".py",
   "mimetype": "text/x-python",
   "name": "python",
   "nbconvert_exporter": "python",
   "pygments_lexer": "ipython3",
   "version": "3.7.3"
  }
 },
 "nbformat": 4,
 "nbformat_minor": 2
}
