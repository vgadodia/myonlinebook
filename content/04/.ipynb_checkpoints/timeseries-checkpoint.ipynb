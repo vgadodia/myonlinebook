{
 "cells": [
  {
   "cell_type": "markdown",
   "metadata": {},
   "source": [
    "## Convert plotTS() Function to Use netCDF4 Parameters ##"
   ]
  },
  {
   "cell_type": "code",
   "execution_count": null,
   "metadata": {},
   "outputs": [],
   "source": [
    "import sys\n",
    "!{sys.executable} -m pip install netCDF4\n",
    "!{sys.executable} -m pip install xarray\n",
    "import opedia\n",
    "import netCDF4\n",
    "import os\n",
    "import json\n",
    "import xarray as xr\n",
    "from datetime import datetime\n",
    "from netCDF4 import num2date, date2num\n",
    "import numpy as np\n",
    "import pandas as pd\n",
    "import db\n",
    "import common as com\n",
    "import timeSeries as TS\n",
    "from datetime import datetime, timedelta\n",
    "import time\n",
    "from math import pi\n",
    "from bokeh.io import output_notebook\n",
    "from bokeh.plotting import figure, show\n",
    "from bokeh.layouts import column\n",
    "from bokeh.models import DatetimeTickFormatter\n",
    "from bokeh.palettes import all_palettes\n",
    "from bokeh.models import HoverTool\n",
    "from bokeh.embed import components\n",
    "import jupyterInline as jup\n",
    "if jup.jupytered():\n",
    "    from tqdm import tqdm_notebook as tqdm\n",
    "else:\n",
    "    from tqdm import tqdm"
   ]
  },
  {
   "cell_type": "markdown",
   "metadata": {},
   "source": [
    "### Xarray Implementation (yippee) ###"
   ]
  },
  {
   "cell_type": "code",
   "execution_count": null,
   "metadata": {},
   "outputs": [],
   "source": [
    "def plotTSX(tables, variables, startDate, endDate, lat1, lat2, lon1, lon2, depth1, depth2, fname, exportDataFlag, marker='-', msize=20, clr='purple'):\n",
    "    p = []\n",
    "    lw = 2\n",
    "    w = 800\n",
    "    h = 400\n",
    "    TOOLS = 'pan,wheel_zoom,zoom_in,zoom_out,box_zoom, undo,redo,reset,tap,save,box_select,poly_select,lasso_select'\n",
    "    for i in tqdm(range(len(tables)), desc='overall'):\n",
    "        dt = 1     \n",
    "        unit = tables[i].variables[variables[i]].attrs['units']\n",
    "        \n",
    "        toDateTime = tables[i].indexes['TIME'].to_datetimeindex()\n",
    "        tables[i]['TIME'] = toDateTime\n",
    "        y = tables[i].sel(TIME = slice(startDate, endDate), LAT_C = slice(lat1, lat2), LON_C = slice(lon1, lon2), DEP_C = slice(depth1, depth2))\n",
    "        t = y.variables['TIME'].values\n",
    "        y = y.variables[variables[i]][:,0,0,0].values.tolist()\n",
    "        \n",
    "        if exportDataFlag:\n",
    "            exportData(t, y, yErr, tables[i], variables[i], lat1, lat2, lon1, lon2, depth1, depth2)\n",
    "        \n",
    "        output_notebook()\n",
    "        p1 = figure(tools=TOOLS, toolbar_location=\"above\", plot_width=w, plot_height=h)\n",
    "        p1.xaxis.axis_label = 'Time'        \n",
    "        p1.yaxis.axis_label = variables[i] + str(unit)\n",
    "        leg = variables[i]\n",
    "        fill_alpha = 0.3        \n",
    "        cr = p1.circle(t, y, fill_color=\"grey\", hover_fill_color=\"firebrick\", fill_alpha=fill_alpha, hover_alpha=0.3, line_color=None, hover_line_color=\"white\", legend=leg, size=msize)\n",
    "        p1.line(t, y, line_color=clr, line_width=lw, legend=leg)\n",
    "        p1.add_tools(HoverTool(tooltips=None, renderers=[cr], mode='hline'))\n",
    "        \n",
    "        \n",
    "        p1.xaxis.formatter=DatetimeTickFormatter(\n",
    "                hours=[\"%d %B %Y\"],\n",
    "                days=[\"%d %B %Y\"],\n",
    "                months=[\"%d %B %Y\"],\n",
    "                years=[\"%d %B %Y\"],\n",
    "            )\n",
    "        p1.xaxis.major_label_orientation = pi/4\n",
    "\n",
    "        p.append(p1)\n",
    "    dirPath = 'embed/'\n",
    "    if not os.path.exists(dirPath):\n",
    "        os.makedirs(dirPath)        \n",
    "    #if not inline:      ## if jupyter is not the caller\n",
    "    #   output_file(dirPath + fname + \".html\", title=\"TimeSeries\")\n",
    "    show(column(p))\n",
    "    return"
   ]
  },
  {
   "cell_type": "markdown",
   "metadata": {},
   "source": [
    "### Testing Space ###"
   ]
  },
  {
   "cell_type": "code",
   "execution_count": null,
   "metadata": {},
   "outputs": [],
   "source": [
    "#TESTS XARRAY IMPLEMENTATION\n",
    "\n",
    "xFile = xr.open_dataset('http://3.88.71.225:80/thredds/dodsC/las/id-a1d60eba44/data_usr_local_tomcat_content_cbiomes_20190510_20_darwin_v0.2_cs510_darwin_v0.2_cs510_nutrients.nc.jnl')\n",
    "\n",
    "tables = [xFile]    # see catalog.csv  for the complete list of tables and variable names\n",
    "variables = ['O2']                                        # see catalog.csv  for the complete list of tables and variable names\n",
    "startDate = '2000-12-31'\n",
    "endDate = '2001-12-31'\n",
    "lat1, lat2 = 25, 30\n",
    "lon1, lon2 = -160, -155\n",
    "depth1, depth2 = 0, 10\n",
    "fname = 'TS'\n",
    "exportDataFlag = False      # True if you you want to download data\n",
    "\n",
    "plotTSX(tables, variables, startDate, endDate, lat1, lat2, lon1, lon2, depth1, depth2, fname, exportDataFlag)\n"
   ]
  }
 ],
 "metadata": {
  "kernelspec": {
   "display_name": "Python 3",
   "language": "python",
   "name": "python3"
  },
  "language_info": {
   "codemirror_mode": {
    "name": "ipython",
    "version": 3
   },
   "file_extension": ".py",
   "mimetype": "text/x-python",
   "name": "python",
   "nbconvert_exporter": "python",
   "pygments_lexer": "ipython3",
   "version": "3.7.3"
  }
 },
 "nbformat": 4,
 "nbformat_minor": 2
}
