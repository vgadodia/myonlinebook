{
 "cells": [
  {
   "cell_type": "markdown",
   "metadata": {},
   "source": [
    "# Regional Map Method  "
   ]
  },
  {
   "cell_type": "markdown",
   "metadata": {},
   "source": [
    "![](regionalmap.png)"
   ]
  },
  {
   "cell_type": "code",
   "execution_count": null,
   "metadata": {
    "tags": [
     "hide_input"
    ]
   },
   "outputs": [],
   "source": [
    "import sys\n",
    "!{sys.executable} -m pip install netCDF4\n",
    "!{sys.executable} -m pip install xarray\n",
    "import opedia\n",
    "import math\n",
    "import common as com\n",
    "from opedia import plotRegional as REG\n",
    "import netCDF4\n",
    "import xarray as xr\n",
    "import numpy as np\n",
    "from datetime import datetime\n",
    "from dateutil.parser import parse\n",
    "from bokeh.plotting import figure, show, output_file\n",
    "from bokeh.layouts import column\n",
    "from bokeh.palettes import all_palettes\n",
    "from bokeh.models import HoverTool, LinearColorMapper, BasicTicker, ColorBar, DatetimeTickFormatter\n",
    "from bokeh.models.annotations import Title\n",
    "from bokeh.embed import components\n",
    "from tqdm import tqdm_notebook as tqdm\n",
    "from netCDF4 import num2date, date2num\n"
   ]
  },
  {
   "cell_type": "markdown",
   "metadata": {},
   "source": [
    "#### NetCDF4 file(s) to read from:"
   ]
  },
  {
   "cell_type": "code",
   "execution_count": null,
   "metadata": {},
   "outputs": [],
   "source": [
    "xFile = xr.open_dataset('http://3.88.71.225:80/thredds/dodsC/las/id-a1d60eba44/data_usr_local_tomcat_content_cbiomes_20190510_20_darwin_v0.2_cs510_darwin_v0.2_cs510_nutrients.nc.jnl')\n"
   ]
  },
  {
   "cell_type": "markdown",
   "metadata": {},
   "source": [
    "#### Parameters (CDF4 tables, variables (with respect to table), time/longitude/latitude/depth constraints):"
   ]
  },
  {
   "cell_type": "code",
   "execution_count": null,
   "metadata": {},
   "outputs": [],
   "source": [
    "\n",
    "tables = [xFile]\n",
    "variables = ['O2']\n",
    "startDate = '2016-04-30'\n",
    "endDate = '2017-04-30'\n",
    "lat1, lat2 = -50, 90\n",
    "lon1, lon2 = -100, 170\n",
    "depth1, depth2 = 0, 50\n",
    "fname = 'regional'\n",
    "exportDataFlag = False"
   ]
  },
  {
   "cell_type": "markdown",
   "metadata": {},
   "source": [
    "#### Regional Map Function (w/ respective parameters) :"
   ]
  },
  {
   "cell_type": "code",
   "execution_count": null,
   "metadata": {
    "tags": [
     "hide_input"
    ]
   },
   "outputs": [],
   "source": [
    "def regionalMap(tables, variabels, dt1, dt2, lat1, lat2, lon1, lon2, depth1, depth2, fname, exportDataFlag):\n",
    "    for i in tqdm(range(len(tables)), desc='overall'):\n",
    "        \n",
    "        unit = tables[i].variables[variables[i]].attrs['units']\n",
    "        \n",
    "        toDateTime = tables[i].indexes['TIME'].to_datetimeindex()\n",
    "        tables[i]['TIME'] = toDateTime\n",
    "        table = tables[i].sel(TIME = slice(startDate, endDate), LAT_C = slice(lat1, lat2), LON_C = slice(lon1, lon2), DEP_C = slice(depth1, depth2))\n",
    "        \n",
    "        varData = table.variables[variables[i]][0,0,:,:].values       \n",
    "        \n",
    "        lats = table.variables['LAT_C'].values.tolist()\n",
    "        lons = table.variables['LON_C'].values.tolist()\n",
    "        \n",
    "        shape = (len(lats), len(lons))\n",
    "        \n",
    "        varData.reshape(shape)\n",
    "\n",
    "        varData[varData < 0] = float('NaN')\n",
    "        varData = [np.asarray(varData)]\n",
    "        lats = [np.asarray(lats)]\n",
    "        lons = [np.asarray(lons)]\n",
    "        \n",
    "        bokehMap(varData, unit, 'regional', lats, lons, unit, 'OTHER', variables[i])"
   ]
  },
  {
   "cell_type": "markdown",
   "metadata": {},
   "source": [
    "#### Bokeh Map Function (w/ respective parameters) :"
   ]
  },
  {
   "cell_type": "code",
   "execution_count": null,
   "metadata": {
    "tags": [
     "hide_input"
    ]
   },
   "outputs": [],
   "source": [
    "def bokehMap(data, subject, fname, lat, lon, units, tables, variabels):\n",
    "    TOOLS=\"crosshair,pan,zoom_in,wheel_zoom,zoom_out,box_zoom,reset,save,\"\n",
    "    p = []\n",
    "    for ind in range(len(data)):\n",
    "\n",
    "        w, h = com.canvasRect(dw=np.max(lon[ind])-np.min(lon[ind]), dh=np.max(lat[ind])-np.min(lat[ind]))\n",
    "        p1 = figure(tools=TOOLS, toolbar_location=\"right\", title=subject[ind], plot_width=w, plot_height=h, x_range=(np.min(lon[ind]), np.max(lon[ind])), y_range=(np.min(lat[ind]), np.max(lat[ind])))\n",
    "        p1.xaxis.axis_label = 'Longitude'\n",
    "        p1.yaxis.axis_label = 'Latitude'\n",
    "    \n",
    "        unit = units\n",
    "        \n",
    "        bounds = com.getBounds(variabels[ind])\n",
    "        \n",
    "        paletteName = com.getPalette(variabels[ind])\n",
    "        low, high = bounds[0], bounds[1]\n",
    "        \n",
    "        if low == None:\n",
    "            low, high = np.nanmin(data[ind].flatten()), np.nanmax(data[ind].flatten())\n",
    "        color_mapper = LinearColorMapper(palette=paletteName, low=low, high=high)\n",
    "        p1.image(image=[data[ind]], color_mapper=color_mapper, x=np.min(lon[ind]), y=np.min(lat[ind]), dw=np.max(lon[ind])-np.min(lon[ind]), dh=np.max(lat[ind])-np.min(lat[ind]))\n",
    "        p1.add_tools(HoverTool(\n",
    "            tooltips=[\n",
    "                ('longitude', '$x'),\n",
    "                ('latitude', '$y'),\n",
    "                (variabels[ind]+unit, '@image'),\n",
    "            ],\n",
    "            mode='mouse'\n",
    "        ))\n",
    "        color_bar = ColorBar(color_mapper=color_mapper, ticker=BasicTicker(),\n",
    "                        label_standoff=12, border_line_color=None, location=(0,0))\n",
    "        p1.add_layout(color_bar, 'right')\n",
    "        p.append(p1)\n",
    "    if len(p) > 0:\n",
    "       # if not inline:      ## if jupyter is not the caller\n",
    "       #     dirPath = 'embed/'\n",
    "       #     if not os.path.exists(dirPath):\n",
    "       #         os.makedirs(dirPath)        \n",
    "       #     output_file(dirPath + fname + \".html\", title=\"Regional Map\")\n",
    "        show(column(p))\n",
    "    return\n"
   ]
  },
  {
   "cell_type": "markdown",
   "metadata": {},
   "source": [
    "### Testing Space ###"
   ]
  },
  {
   "cell_type": "code",
   "execution_count": null,
   "metadata": {},
   "outputs": [],
   "source": [
    "regionalMap(tables, variables, startDate, endDate, lat1, lat2, lon1, lon2, depth1, depth2, fname, exportDataFlag)\n",
    "\n"
   ]
  }
 ],
 "metadata": {
  "celltoolbar": "Tags",
  "kernelspec": {
   "display_name": "Python 3",
   "language": "python",
   "name": "python3"
  },
  "language_info": {
   "codemirror_mode": {
    "name": "ipython",
    "version": 3
   },
   "file_extension": ".py",
   "mimetype": "text/x-python",
   "name": "python",
   "nbconvert_exporter": "python",
   "pygments_lexer": "ipython3",
   "version": "3.7.3"
  }
 },
 "nbformat": 4,
 "nbformat_minor": 2
}
